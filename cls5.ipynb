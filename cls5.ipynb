{
 "cells": [
  {
   "cell_type": "code",
   "execution_count": null,
   "id": "391270d8-7275-4380-bd32-38e86cde881b",
   "metadata": {},
   "outputs": [],
   "source": []
  },
  {
   "cell_type": "code",
   "execution_count": null,
   "id": "424d11b3-e7de-462f-a751-533fe97a8b79",
   "metadata": {},
   "outputs": [],
   "source": []
  },
  {
   "cell_type": "code",
   "execution_count": 1,
   "id": "2c513cee-482c-4114-905e-e4c93fcd4751",
   "metadata": {},
   "outputs": [
    {
     "name": "stdout",
     "output_type": "stream",
     "text": [
      "0 0   0 1   0 2   \n",
      "1 0   1 1   1 2   \n",
      "2 0   2 1   2 2   \n",
      "3 0   3 1   3 2   \n",
      "4 0   4 1   4 2   \n"
     ]
    }
   ],
   "source": [
    "for i in range(5):\n",
    "    for j in range(3):\n",
    "        print(i,j , end = \"   \")\n",
    "    print()"
   ]
  },
  {
   "cell_type": "code",
   "execution_count": 2,
   "id": "1af1aead-7e31-4599-a2f8-8d88e3d9baa5",
   "metadata": {},
   "outputs": [
    {
     "name": "stdout",
     "output_type": "stream",
     "text": [
      "0 0   0 1   0 2   0 3   0 4   \n",
      "1 0   1 1   1 2   1 3   1 4   \n",
      "2 0   2 1   2 2   2 3   2 4   \n"
     ]
    }
   ],
   "source": [
    "for i in range(3):\n",
    "    for j in range(5):\n",
    "        print(i,j , end = \"   \")\n",
    "    print()"
   ]
  },
  {
   "cell_type": "code",
   "execution_count": 3,
   "id": "8f0a642c-d1dd-4742-b70a-868c89713714",
   "metadata": {},
   "outputs": [
    {
     "name": "stdout",
     "output_type": "stream",
     "text": [
      "0 0   0 1   0 2   0 3   0 4   0 5   0 6   \n",
      "1 0   1 1   1 2   1 3   1 4   1 5   1 6   \n",
      "2 0   2 1   2 2   2 3   2 4   2 5   2 6   \n",
      "3 0   3 1   3 2   3 3   3 4   3 5   3 6   \n",
      "4 0   4 1   4 2   4 3   4 4   4 5   4 6   \n",
      "5 0   5 1   5 2   5 3   5 4   5 5   5 6   \n"
     ]
    }
   ],
   "source": [
    "for i in range(6):\n",
    "    for j in range(7):\n",
    "        print(i,j , end = \"   \")\n",
    "    print()"
   ]
  },
  {
   "cell_type": "code",
   "execution_count": 4,
   "id": "ab34c229-4a85-41f5-9319-a9bc0f519cee",
   "metadata": {},
   "outputs": [
    {
     "name": "stdout",
     "output_type": "stream",
     "text": [
      "0 0  0 1  0 2  \n",
      "1 0  1 1  1 2  \n",
      "2 0  2 1  2 2  \n",
      "3 0  3 1  3 2  \n"
     ]
    }
   ],
   "source": [
    "for i in range(4):\n",
    "    for j in range(3):\n",
    "        print(i,j , end = \"  \")\n",
    "    print()"
   ]
  },
  {
   "cell_type": "code",
   "execution_count": 5,
   "id": "f1a1f5bb-5959-4cc2-8cf9-c1cca70b61de",
   "metadata": {},
   "outputs": [
    {
     "name": "stdout",
     "output_type": "stream",
     "text": [
      "i 0 j 0    i 0 j 1    i 0 j 2    i 0 j 3    i 0 j 4    i 0 j 5    i 0 j 6    i 0 j 7    i 0 j 8    \n",
      "i 1 j 0    i 1 j 1    i 1 j 2    i 1 j 3    i 1 j 4    i 1 j 5    i 1 j 6    i 1 j 7    i 1 j 8    \n",
      "i 2 j 0    i 2 j 1    i 2 j 2    i 2 j 3    i 2 j 4    i 2 j 5    i 2 j 6    i 2 j 7    i 2 j 8    \n",
      "i 3 j 0    i 3 j 1    i 3 j 2    i 3 j 3    i 3 j 4    i 3 j 5    i 3 j 6    i 3 j 7    i 3 j 8    \n",
      "i 4 j 0    i 4 j 1    i 4 j 2    i 4 j 3    i 4 j 4    i 4 j 5    i 4 j 6    i 4 j 7    i 4 j 8    \n",
      "i 5 j 0    i 5 j 1    i 5 j 2    i 5 j 3    i 5 j 4    i 5 j 5    i 5 j 6    i 5 j 7    i 5 j 8    \n",
      "i 6 j 0    i 6 j 1    i 6 j 2    i 6 j 3    i 6 j 4    i 6 j 5    i 6 j 6    i 6 j 7    i 6 j 8    \n",
      "i 7 j 0    i 7 j 1    i 7 j 2    i 7 j 3    i 7 j 4    i 7 j 5    i 7 j 6    i 7 j 7    i 7 j 8    \n",
      "i 8 j 0    i 8 j 1    i 8 j 2    i 8 j 3    i 8 j 4    i 8 j 5    i 8 j 6    i 8 j 7    i 8 j 8    \n",
      "i 9 j 0    i 9 j 1    i 9 j 2    i 9 j 3    i 9 j 4    i 9 j 5    i 9 j 6    i 9 j 7    i 9 j 8    \n"
     ]
    }
   ],
   "source": [
    "for i in range(10):\n",
    "    for j in range(9):\n",
    "        print(\"i\",i, \"j\",j , end = \"    \")\n",
    "    print()"
   ]
  },
  {
   "cell_type": "code",
   "execution_count": null,
   "id": "6954a993-afec-4e19-b81e-4ba022de3e64",
   "metadata": {},
   "outputs": [],
   "source": []
  },
  {
   "cell_type": "code",
   "execution_count": 6,
   "id": "a139b98d-1687-4be3-91e3-7950db43d98b",
   "metadata": {},
   "outputs": [
    {
     "name": "stdout",
     "output_type": "stream",
     "text": [
      "r 0 c 0     r 0 c 1     r 0 c 2     r 0 c 3     r 0 c 4     r 0 c 5     r 0 c 6     r 0 c 7     r 0 c 8     \n",
      "r 1 c 0     r 1 c 1     r 1 c 2     r 1 c 3     r 1 c 4     r 1 c 5     r 1 c 6     r 1 c 7     r 1 c 8     \n",
      "r 2 c 0     r 2 c 1     r 2 c 2     r 2 c 3     r 2 c 4     r 2 c 5     r 2 c 6     r 2 c 7     r 2 c 8     \n",
      "r 3 c 0     r 3 c 1     r 3 c 2     r 3 c 3     r 3 c 4     r 3 c 5     r 3 c 6     r 3 c 7     r 3 c 8     \n",
      "r 4 c 0     r 4 c 1     r 4 c 2     r 4 c 3     r 4 c 4     r 4 c 5     r 4 c 6     r 4 c 7     r 4 c 8     \n",
      "r 5 c 0     r 5 c 1     r 5 c 2     r 5 c 3     r 5 c 4     r 5 c 5     r 5 c 6     r 5 c 7     r 5 c 8     \n",
      "r 6 c 0     r 6 c 1     r 6 c 2     r 6 c 3     r 6 c 4     r 6 c 5     r 6 c 6     r 6 c 7     r 6 c 8     \n",
      "r 7 c 0     r 7 c 1     r 7 c 2     r 7 c 3     r 7 c 4     r 7 c 5     r 7 c 6     r 7 c 7     r 7 c 8     \n",
      "r 8 c 0     r 8 c 1     r 8 c 2     r 8 c 3     r 8 c 4     r 8 c 5     r 8 c 6     r 8 c 7     r 8 c 8     \n",
      "r 9 c 0     r 9 c 1     r 9 c 2     r 9 c 3     r 9 c 4     r 9 c 5     r 9 c 6     r 9 c 7     r 9 c 8     \n"
     ]
    }
   ],
   "source": [
    "for r in range(10):\n",
    "    for c in range(9):\n",
    "        print(\"r\",r, \"c\",c , end = \"     \")\n",
    "    print()"
   ]
  },
  {
   "cell_type": "code",
   "execution_count": null,
   "id": "14aab3ab-9355-4d9a-8931-4b1959b33b8b",
   "metadata": {},
   "outputs": [],
   "source": []
  },
  {
   "cell_type": "code",
   "execution_count": 7,
   "id": "34651a5d-7dce-4970-b214-d7388716cd11",
   "metadata": {},
   "outputs": [
    {
     "name": "stdout",
     "output_type": "stream",
     "text": [
      "0 0  0 1  0 2  \n",
      "1 0  1 1  1 2  \n",
      "2 0  2 1  2 2  \n"
     ]
    }
   ],
   "source": [
    "for i in range(3):\n",
    "    for j in range(3):\n",
    "        print(i,j , end = \"  \")\n",
    "    print()"
   ]
  },
  {
   "cell_type": "code",
   "execution_count": 8,
   "id": "c8e4e87b-bc2c-4ada-a0ba-ac3a043c3016",
   "metadata": {},
   "outputs": [
    {
     "name": "stdout",
     "output_type": "stream",
     "text": [
      "@  #  #  \n",
      "#  @  #  \n",
      "#  #  @  \n"
     ]
    }
   ],
   "source": [
    "for i in range(3):\n",
    "    for j in range(3):\n",
    "        if  (i==0 and j==0) or (i==1 and j==1) or (i==2 and j==2):\n",
    "            print(\"@\" , end = \"  \")\n",
    "        else:\n",
    "            print(\"#\" , end = \"  \")\n",
    "    print()"
   ]
  },
  {
   "cell_type": "code",
   "execution_count": null,
   "id": "015f11c9-b2f4-424a-8e87-da8749697124",
   "metadata": {},
   "outputs": [],
   "source": []
  },
  {
   "cell_type": "code",
   "execution_count": 9,
   "id": "88afd2b9-852e-4848-b7d1-5a32825c0c85",
   "metadata": {},
   "outputs": [
    {
     "name": "stdout",
     "output_type": "stream",
     "text": [
      "#  #  #  \n",
      "#  @  #  \n",
      "#  #  #  \n"
     ]
    }
   ],
   "source": [
    "for i in range(3):\n",
    "    for j in range(3):\n",
    "        if i == 1 and j ==1:\n",
    "            print(\"@\" , end = \"  \")\n",
    "        else:\n",
    "            print(\"#\" , end = \"  \")\n",
    "    print()"
   ]
  },
  {
   "cell_type": "code",
   "execution_count": null,
   "id": "b313d5cf-33c4-48c7-afa0-437294c2de2e",
   "metadata": {},
   "outputs": [],
   "source": []
  },
  {
   "cell_type": "code",
   "execution_count": 46,
   "id": "2c7fd3d8-c4f7-461e-8eb8-65cfa3d759e9",
   "metadata": {},
   "outputs": [
    {
     "name": "stdout",
     "output_type": "stream",
     "text": [
      "0 0  0 1  0 2  \n",
      "1 0  1 1  1 2  \n",
      "2 0  2 1  2 2  \n"
     ]
    }
   ],
   "source": [
    "for i in range(3):\n",
    "    for j in range(3):\n",
    "        print(i,j , end = \"  \")\n",
    "    print()"
   ]
  },
  {
   "cell_type": "code",
   "execution_count": 10,
   "id": "fbaca875-0541-48f0-8c00-06376a4f4883",
   "metadata": {},
   "outputs": [
    {
     "name": "stdout",
     "output_type": "stream",
     "text": [
      "@  #  #  \n",
      "#  @  #  \n",
      "#  #  @  \n"
     ]
    }
   ],
   "source": [
    "for i in range(3):\n",
    "    for j in range(3):\n",
    "        if  i== j:\n",
    "            print(\"@\" , end = \"  \")\n",
    "        else:\n",
    "            print(\"#\" , end = \"  \")\n",
    "    print()"
   ]
  },
  {
   "cell_type": "code",
   "execution_count": null,
   "id": "f1c2a60b-c700-410b-9f43-3271554bbb40",
   "metadata": {},
   "outputs": [],
   "source": []
  },
  {
   "cell_type": "code",
   "execution_count": null,
   "id": "047b5308-b039-45c2-b7d8-6acac35aea0e",
   "metadata": {},
   "outputs": [],
   "source": []
  },
  {
   "cell_type": "code",
   "execution_count": 59,
   "id": "b2d9f924-6cf4-4806-b559-b1efa6bc48fd",
   "metadata": {},
   "outputs": [
    {
     "name": "stdout",
     "output_type": "stream",
     "text": [
      "*  *  *  *  *  \n",
      "      *        \n",
      "      *        \n",
      "      *        \n",
      "      *        \n"
     ]
    }
   ],
   "source": [
    "for i in range(5):\n",
    "    for j in range(5):\n",
    "        if  (i==0) or (j==2):\n",
    "            \n",
    "            print(\"*\" , end = \"  \")\n",
    "        else:\n",
    "            print(\" \" , end = \"  \")\n",
    "    print()"
   ]
  },
  {
   "cell_type": "code",
   "execution_count": 51,
   "id": "0c198f64-1949-4fa1-a12e-bd55139a04dd",
   "metadata": {},
   "outputs": [
    {
     "name": "stdout",
     "output_type": "stream",
     "text": [
      "#  #  @  \n",
      "#  #  @  \n",
      "#  #  @  \n"
     ]
    }
   ],
   "source": [
    "for i in range(3):\n",
    "    for j in range(3):\n",
    "        if  (i==0 and j==2) or (i==1 and j==2) or (i==2 and j==2):\n",
    "            print(\"@\" , end = \"  \")\n",
    "        else:\n",
    "            print(\"#\" , end = \"  \")\n",
    "    print()"
   ]
  },
  {
   "cell_type": "code",
   "execution_count": null,
   "id": "a88dd897-fade-4c20-950e-93bd30d12e4a",
   "metadata": {},
   "outputs": [],
   "source": []
  },
  {
   "cell_type": "code",
   "execution_count": null,
   "id": "ddb6a8d9-7364-4436-bb79-0792db197a9e",
   "metadata": {},
   "outputs": [],
   "source": []
  },
  {
   "cell_type": "code",
   "execution_count": 55,
   "id": "ddb6b182-0f0d-457c-8eed-e0991b171885",
   "metadata": {},
   "outputs": [
    {
     "name": "stdout",
     "output_type": "stream",
     "text": [
      "         \n",
      "         \n",
      "@  @  @  \n"
     ]
    }
   ],
   "source": [
    "for i in range(3):\n",
    "    for j in range(3):\n",
    "        if  i==2:\n",
    "            print(\"@\" , end = \"  \")\n",
    "        else:\n",
    "            print(\" \" , end = \"  \")\n",
    "    print()"
   ]
  },
  {
   "cell_type": "code",
   "execution_count": null,
   "id": "904f3c20-5e68-460c-97a4-52e62e2c5d9c",
   "metadata": {},
   "outputs": [],
   "source": []
  },
  {
   "cell_type": "code",
   "execution_count": null,
   "id": "090fdef9-bc73-4023-a8a2-9e72525c1293",
   "metadata": {},
   "outputs": [],
   "source": []
  },
  {
   "cell_type": "code",
   "execution_count": 60,
   "id": "e326c866-9246-4460-8448-fbe0f1aed269",
   "metadata": {},
   "outputs": [
    {
     "name": "stdout",
     "output_type": "stream",
     "text": [
      "*  *  *  *  *  \n",
      "      *        \n",
      "      *        \n",
      "      *        \n",
      "      *        \n"
     ]
    }
   ],
   "source": [
    "for i in range(5):\n",
    "    for j in range(5):\n",
    "        if  (i==0) or (j==2):\n",
    "            \n",
    "            print(\"*\" , end = \"  \")\n",
    "        else:\n",
    "            print(\" \" , end = \"  \")\n",
    "    print()"
   ]
  },
  {
   "cell_type": "code",
   "execution_count": null,
   "id": "a0731754-fbc3-4b72-9a64-165f3baff9f7",
   "metadata": {},
   "outputs": [],
   "source": []
  },
  {
   "cell_type": "code",
   "execution_count": 73,
   "id": "7499ce35-78cd-4a93-9e54-8ed1e2d76121",
   "metadata": {},
   "outputs": [
    {
     "name": "stdout",
     "output_type": "stream",
     "text": [
      "0 0    0 1    0 2    0 3    0 4    \n",
      "1 0    1 1    1 2    1 3    1 4    \n",
      "2 0    2 1    2 2    2 3    2 4    \n",
      "3 0    3 1    3 2    3 3    3 4    \n",
      "4 0    4 1    4 2    4 3    4 4    \n",
      "5 0    5 1    5 2    5 3    5 4    \n"
     ]
    }
   ],
   "source": [
    "for i in range(6):\n",
    "    for j in range(5):\n",
    "        print(i,j , end = \"    \")\n",
    "    print()"
   ]
  },
  {
   "cell_type": "code",
   "execution_count": 85,
   "id": "e619395b-3148-4c8f-a0d2-f72e51dfe2e2",
   "metadata": {},
   "outputs": [
    {
     "name": "stdout",
     "output_type": "stream",
     "text": [
      "*  *  *  *  *  \n",
      "*           *  \n",
      "*           *  \n",
      "*           *  \n",
      "*           *  \n",
      "*  *  *  *  *  \n"
     ]
    }
   ],
   "source": [
    "for i in range(6):\n",
    "    for j in range(5):\n",
    "        if  (i==0 and j!=0) or (j==0) or (i==5) or (j==4):\n",
    "            print(\"*\" , end = \"  \")\n",
    "        else:\n",
    "            print(\" \" , end = \"  \")\n",
    "    print()"
   ]
  },
  {
   "cell_type": "code",
   "execution_count": 91,
   "id": "b9fdd8e5-5c75-41a6-860a-e73ef3938531",
   "metadata": {},
   "outputs": [
    {
     "name": "stdout",
     "output_type": "stream",
     "text": [
      "0 0    0 1    0 2    0 3    0 4    \n",
      "1 0    1 1    1 2    1 3    1 4    \n",
      "2 0    2 1    2 2    2 3    2 4    \n",
      "3 0    3 1    3 2    3 3    3 4    \n",
      "4 0    4 1    4 2    4 3    4 4    \n",
      "5 0    5 1    5 2    5 3    5 4    \n"
     ]
    }
   ],
   "source": [
    "for i in range(6):\n",
    "    for j in range(5):\n",
    "        print(i,j , end = \"    \")\n",
    "    print()"
   ]
  },
  {
   "cell_type": "code",
   "execution_count": 95,
   "id": "34a9aa9b-d1e2-4c14-ab5c-ac8313692e3f",
   "metadata": {},
   "outputs": [
    {
     "name": "stdout",
     "output_type": "stream",
     "text": [
      "   *  *  *     \n",
      "*           *  \n",
      "*           *  \n",
      "*           *  \n",
      "*           *  \n",
      "   *  *  *     \n"
     ]
    }
   ],
   "source": [
    "for i in range(6):\n",
    "    for j in range(5):\n",
    "        if  (i in (0,5) and j not in (0,4)) or (j in (0,4) and i not in (0,5)):\n",
    "            print(\"*\" , end = \"  \")\n",
    "        else:\n",
    "            print(\" \" , end = \"  \")\n",
    "    print()"
   ]
  },
  {
   "cell_type": "code",
   "execution_count": 12,
   "id": "f7756071-b841-44c6-bd07-25a126e5eca8",
   "metadata": {},
   "outputs": [
    {
     "name": "stdout",
     "output_type": "stream",
     "text": [
      "0 0       0 1       0 2       0 3       0 4       \n",
      "1 0       1 1       1 2       1 3       1 4       \n",
      "2 0       2 1       2 2       2 3       2 4       \n",
      "3 0       3 1       3 2       3 3       3 4       \n",
      "4 0       4 1       4 2       4 3       4 4       \n",
      "5 0       5 1       5 2       5 3       5 4       \n"
     ]
    }
   ],
   "source": [
    "for i in range(6):\n",
    "    for j in range(5):\n",
    "        print(i,j , end = \"       \")\n",
    "    print()"
   ]
  },
  {
   "cell_type": "code",
   "execution_count": 47,
   "id": "4b423387-f099-4f20-a512-4d44688e314e",
   "metadata": {},
   "outputs": [
    {
     "name": "stdout",
     "output_type": "stream",
     "text": [
      "*  *     \n",
      "*     *  \n",
      "*     *  \n",
      "*  *     \n",
      "*        \n",
      "*        \n",
      "*        \n"
     ]
    }
   ],
   "source": [
    "for i in range(7):\n",
    "    for j in range(3):\n",
    "        if (j==0) or (i==0 and j==1) or (i==1 and j==2) or (i==2 and j==2) or (i==3 and j==1):\n",
    "            print(\"*\" , end = \"  \")\n",
    "        else:\n",
    "            print(\" \" , end = \"  \")\n",
    "    print()\n",
    "        \n",
    "    \n",
    "        \n",
    "    "
   ]
  },
  {
   "cell_type": "code",
   "execution_count": 14,
   "id": "e976ef0e-45e5-4fff-8a99-68d483de61ee",
   "metadata": {},
   "outputs": [
    {
     "name": "stdout",
     "output_type": "stream",
     "text": [
      "0 0     0 1     0 2     \n",
      "1 0     1 1     1 2     \n",
      "2 0     2 1     2 2     \n"
     ]
    }
   ],
   "source": [
    "for i in range(3):\n",
    "    for j in range(3):\n",
    "        print(i,j , end = \"     \")\n",
    "    print()\n",
    "    "
   ]
  },
  {
   "cell_type": "code",
   "execution_count": 20,
   "id": "d22a6892-7579-4b11-9fef-7e071faf8425",
   "metadata": {},
   "outputs": [
    {
     "name": "stdout",
     "output_type": "stream",
     "text": [
      "            \n",
      "            \n",
      "@   @   @   \n"
     ]
    }
   ],
   "source": [
    "for i in range(3):\n",
    "    for j in range(3):\n",
    "        if i==2:\n",
    "            print(\"@\" , end = \"   \")\n",
    "        else:\n",
    "            print(\" \" , end = \"   \")\n",
    "    print()"
   ]
  },
  {
   "cell_type": "code",
   "execution_count": 28,
   "id": "84e53d5d-ae0b-444b-a036-bc34cdf3e13f",
   "metadata": {},
   "outputs": [
    {
     "name": "stdout",
     "output_type": "stream",
     "text": [
      "         \n",
      "         \n",
      "@  @  @  \n"
     ]
    }
   ],
   "source": [
    "for i in range(3):\n",
    "    for j in range(3):\n",
    "        if i==2:\n",
    "            print(\"@\" , end = \"  \")\n",
    "        else:\n",
    "            print(\" \" , end = \"  \")\n",
    "    print()\n",
    "            "
   ]
  },
  {
   "cell_type": "code",
   "execution_count": 29,
   "id": "9e3d792a-824e-4beb-8e76-7b5c06d444c7",
   "metadata": {},
   "outputs": [
    {
     "name": "stdout",
     "output_type": "stream",
     "text": [
      "*  *  *  *  *  \n",
      "      *        \n",
      "      *        \n",
      "      *        \n",
      "      *        \n"
     ]
    }
   ],
   "source": [
    "for i in range(5):\n",
    "    for j in range(5):\n",
    "        if (i==0) or (j==2):\n",
    "            print(\"*\" , end = \"  \")\n",
    "        else:\n",
    "            print(\" \" , end = \"  \")\n",
    "    print()"
   ]
  },
  {
   "cell_type": "code",
   "execution_count": 31,
   "id": "b20c7090-1528-4bfc-a49a-626ca7379d77",
   "metadata": {},
   "outputs": [
    {
     "name": "stdout",
     "output_type": "stream",
     "text": [
      "    *  *  *      \n",
      "*              *  \n",
      "*              *  \n",
      "*              *  \n",
      "*              *  \n",
      "    *  *  *      \n"
     ]
    }
   ],
   "source": [
    "for i in range(6):\n",
    "    for j in range(5):\n",
    "        if (i in (0,5) and j not in (0,4)) or (j in (0,4) and i not in(0,5)):\n",
    "            print(\"*\" , end = \"  \")\n",
    "        else:\n",
    "            print(\" \" , end = \"   \")\n",
    "    print()\n",
    "        "
   ]
  },
  {
   "cell_type": "code",
   "execution_count": null,
   "id": "284c0d21-812e-41fb-8fac-77854931d2fa",
   "metadata": {},
   "outputs": [],
   "source": []
  },
  {
   "cell_type": "code",
   "execution_count": 57,
   "id": "a49f3930-68b7-4b07-85f3-d1f4c2abfb21",
   "metadata": {},
   "outputs": [
    {
     "name": "stdout",
     "output_type": "stream",
     "text": [
      "0 0    0 1    0 2    0 3    \n",
      "1 0    1 1    1 2    1 3    \n",
      "2 0    2 1    2 2    2 3    \n",
      "3 0    3 1    3 2    3 3    \n",
      "4 0    4 1    4 2    4 3    \n",
      "5 0    5 1    5 2    5 3    \n"
     ]
    }
   ],
   "source": [
    "for i in range(6):\n",
    "    for j in range(4):\n",
    "        print(i,j , end = \"    \")\n",
    "    print()"
   ]
  },
  {
   "cell_type": "code",
   "execution_count": null,
   "id": "de2a5bcc-2a9f-486e-a896-25fed51493ae",
   "metadata": {},
   "outputs": [],
   "source": []
  },
  {
   "cell_type": "code",
   "execution_count": 65,
   "id": "625725d8-4581-401f-92d8-ae08cd089284",
   "metadata": {},
   "outputs": [
    {
     "name": "stdout",
     "output_type": "stream",
     "text": [
      "*   *   *       \n",
      "*           *   \n",
      "*           *   \n",
      "*           *   \n",
      "*           *   \n",
      "*   *   *       \n"
     ]
    }
   ],
   "source": [
    "for i in range(6):\n",
    "    for j in range(4):\n",
    "        if j == 0 or (i in (0,5) and j!=3) or (j == 3 and i not in (0,5)):\n",
    "            print(\"*\" , end = \"   \")\n",
    "        else:\n",
    "            print(\" \" , end = \"   \")\n",
    "    print()"
   ]
  },
  {
   "cell_type": "code",
   "execution_count": null,
   "id": "a2abc7f9-008f-498a-a186-f04e940f4c2d",
   "metadata": {},
   "outputs": [],
   "source": []
  },
  {
   "cell_type": "code",
   "execution_count": 66,
   "id": "4458664e-df25-4410-a55f-1f1d3e92c2cf",
   "metadata": {},
   "outputs": [
    {
     "name": "stdout",
     "output_type": "stream",
     "text": [
      "*  *     \n",
      "*     *  \n",
      "*     *  \n",
      "*  *     \n",
      "*        \n",
      "*        \n",
      "*        \n"
     ]
    }
   ],
   "source": [
    "for i in range(7):\n",
    "    for j in range(3):\n",
    "        if (j==0) or (i==0 and j==1) or (i==1 and j==2) or (i==2 and j==2) or (i==3 and j==1):\n",
    "            print(\"*\" , end = \"  \")\n",
    "        else:\n",
    "            print(\" \" , end = \"  \")\n",
    "    print()\n"
   ]
  },
  {
   "cell_type": "code",
   "execution_count": null,
   "id": "1b9855fa-d4eb-4d8f-8ff7-68ba5f4e6d42",
   "metadata": {},
   "outputs": [],
   "source": []
  },
  {
   "cell_type": "code",
   "execution_count": null,
   "id": "48a51f0e-f808-4da7-bba6-98469cb46a23",
   "metadata": {},
   "outputs": [],
   "source": []
  },
  {
   "cell_type": "code",
   "execution_count": null,
   "id": "991ab78e-29fd-42ad-8a60-71f1760fa1da",
   "metadata": {},
   "outputs": [],
   "source": []
  },
  {
   "cell_type": "code",
   "execution_count": null,
   "id": "de1f4ebb-1107-4ad8-bf54-9c6cd84e7694",
   "metadata": {},
   "outputs": [],
   "source": []
  },
  {
   "cell_type": "code",
   "execution_count": null,
   "id": "eafefacb-d5c1-49a7-8e09-209d7dbf926d",
   "metadata": {},
   "outputs": [],
   "source": []
  },
  {
   "cell_type": "code",
   "execution_count": null,
   "id": "96fc3e42-41a1-416e-84b9-dbd00741d69f",
   "metadata": {},
   "outputs": [],
   "source": []
  },
  {
   "cell_type": "code",
   "execution_count": null,
   "id": "2805c40f-8e11-42ec-aa72-0c3be5cc45be",
   "metadata": {},
   "outputs": [],
   "source": []
  },
  {
   "cell_type": "code",
   "execution_count": null,
   "id": "3275844d-d128-41b4-b348-d28c3ee66e4c",
   "metadata": {},
   "outputs": [],
   "source": []
  },
  {
   "cell_type": "code",
   "execution_count": null,
   "id": "793d9acc-77fe-4949-9f3d-88ff1e7244d4",
   "metadata": {},
   "outputs": [],
   "source": []
  }
 ],
 "metadata": {
  "kernelspec": {
   "display_name": "Python 3 (ipykernel)",
   "language": "python",
   "name": "python3"
  },
  "language_info": {
   "codemirror_mode": {
    "name": "ipython",
    "version": 3
   },
   "file_extension": ".py",
   "mimetype": "text/x-python",
   "name": "python",
   "nbconvert_exporter": "python",
   "pygments_lexer": "ipython3",
   "version": "3.11.7"
  }
 },
 "nbformat": 4,
 "nbformat_minor": 5
}
